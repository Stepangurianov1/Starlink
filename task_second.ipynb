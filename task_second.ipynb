{
 "cells": [
  {
   "cell_type": "code",
   "execution_count": 69,
   "id": "0778e594",
   "metadata": {},
   "outputs": [],
   "source": [
    "import requests\n",
    "from bs4 import BeautifulSoup as BS\n",
    "import pandas as pd\n",
    "import os"
   ]
  },
  {
   "cell_type": "code",
   "execution_count": 62,
   "id": "17ead039",
   "metadata": {},
   "outputs": [],
   "source": [
    "request = requests.get('https://adindex.ru/ratings/marketing/2021/300770/#300773')\n",
    "html = BS(request.content, 'html.parser')"
   ]
  },
  {
   "cell_type": "code",
   "execution_count": 63,
   "id": "f154aa8a",
   "metadata": {},
   "outputs": [],
   "source": [
    "table = html.find('table', attrs={'class': 'rating-table-full'})"
   ]
  },
  {
   "cell_type": "code",
   "execution_count": 64,
   "id": "65cc8614",
   "metadata": {},
   "outputs": [],
   "source": [
    "def get_data_table(table):\n",
    "    table_data_array = []\n",
    "    for row in table.find_all(\"tr\"):\n",
    "        cells_name = row.find_all(\"th\")\n",
    "        array_text_cells = []\n",
    "        if cells_name is not None:\n",
    "            for cell_name in cells_name:\n",
    "                array_text_cells.append(cell_name.text)\n",
    "        cells = row.find_all(\"td\")\n",
    "        for cell in cells:\n",
    "            if cell.find(\"a\") is not None:\n",
    "                text_cell = cell.find(\"a\").text\n",
    "            else:\n",
    "                text_cell = cell.text\n",
    "                try:\n",
    "                    text_cell = float(cell.text.replace(\" \", \"\").replace(\",\", \".\"))\n",
    "                except ValueError:\n",
    "                    text_cell = cell.text\n",
    "                    if text_cell.isspace():\n",
    "                        text_cell = None\n",
    "            if text_cell == 'N/a' or text_cell == '-' or text_cell == '':\n",
    "                text_cell = None\n",
    "            array_text_cells.append(text_cell)\n",
    "        if not array_text_cells:\n",
    "            continue\n",
    "        table_data_array.append(array_text_cells)\n",
    "    return table_data_array"
   ]
  },
  {
   "cell_type": "code",
   "execution_count": 65,
   "id": "678c8c4f",
   "metadata": {},
   "outputs": [],
   "source": [
    "def array_to_df(data):\n",
    "    columns = data.pop(0)\n",
    "    return pd.DataFrame(data, columns=columns)"
   ]
  },
  {
   "cell_type": "code",
   "execution_count": 66,
   "id": "24482f9e",
   "metadata": {},
   "outputs": [],
   "source": [
    "def get_sheets_name():\n",
    "    name_array = []\n",
    "    div_names = html.find('div', attrs={'class': 'rating-tabs-categories__index'})\n",
    "    for cell in div_names:\n",
    "        text = cell.text\n",
    "        if text != '\\n':\n",
    "            name_array.append(text)\n",
    "    return name_array"
   ]
  },
  {
   "cell_type": "code",
   "execution_count": 67,
   "id": "140f123c",
   "metadata": {},
   "outputs": [],
   "source": [
    "import openpyxl\n",
    "def main():\n",
    "    file_name = 'tables.xlsx'\n",
    "    tables = html.find_all('table', attrs={'class': 'rating-table-full'})\n",
    "    writer = pd.ExcelWriter(file_name)\n",
    "    sheets_name = get_sheets_name()\n",
    "    for i, table in enumerate(tables):\n",
    "        data = get_data_table(table)\n",
    "        df = array_to_df(data)\n",
    "        if i == 0:\n",
    "#             df.fillna(0, inplace=True)\n",
    "            df['Средняя прибыль за целые года'] = df[['2016 год','2017 год','2018 год', '2019 год', '2020 год', '2021 год']].mean(axis=1)\n",
    "            df = df.sort_values(by='Средняя прибыль за целые года', ascending=False)\n",
    "#         XL не дает делать название листа длинее 31-го символа. Индекс добален так как, \n",
    "#         если обрезать название, то получается два одинаковых.\n",
    "        df.to_excel(writer, sheet_name=f'{sheets_name[i][:30]}{i}', index=False)\n",
    "    writer.close()"
   ]
  },
  {
   "cell_type": "code",
   "execution_count": 68,
   "id": "d4461ce2",
   "metadata": {
    "scrolled": false
   },
   "outputs": [],
   "source": [
    "main()"
   ]
  },
  {
   "cell_type": "code",
   "execution_count": null,
   "id": "ea53c99a",
   "metadata": {},
   "outputs": [],
   "source": []
  }
 ],
 "metadata": {
  "kernelspec": {
   "display_name": "Python 3 (ipykernel)",
   "language": "python",
   "name": "python3"
  },
  "language_info": {
   "codemirror_mode": {
    "name": "ipython",
    "version": 3
   },
   "file_extension": ".py",
   "mimetype": "text/x-python",
   "name": "python",
   "nbconvert_exporter": "python",
   "pygments_lexer": "ipython3",
   "version": "3.10.11"
  }
 },
 "nbformat": 4,
 "nbformat_minor": 5
}
